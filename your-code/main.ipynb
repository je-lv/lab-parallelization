{
 "cells": [
  {
   "cell_type": "markdown",
   "metadata": {},
   "source": [
    "# Parallelization Lab\n",
    "\n",
    "In this lab, you will be leveraging several concepts you have learned to obtain a list of links from a web page and crawl and index the pages referenced by those links - both sequentially and in parallel. Follow the steps below to complete the lab."
   ]
  },
  {
   "cell_type": "markdown",
   "metadata": {},
   "source": [
    "## Step 1: Use the requests library to retrieve the content from the URL below."
   ]
  },
  {
   "cell_type": "code",
   "execution_count": 1,
   "metadata": {},
   "outputs": [],
   "source": [
    "import requests as r\n",
    "\n",
    "url = 'https://en.wikipedia.org/wiki/Data_science'"
   ]
  },
  {
   "cell_type": "code",
   "execution_count": 2,
   "metadata": {},
   "outputs": [],
   "source": [
    "resp = r.get(url).text"
   ]
  },
  {
   "cell_type": "markdown",
   "metadata": {},
   "source": [
    "## Step 2: Use BeautifulSoup to extract a list of all the unique links on the page."
   ]
  },
  {
   "cell_type": "code",
   "execution_count": 3,
   "metadata": {},
   "outputs": [],
   "source": [
    "from bs4 import BeautifulSoup as soup"
   ]
  },
  {
   "cell_type": "code",
   "execution_count": 4,
   "metadata": {
    "scrolled": true
   },
   "outputs": [],
   "source": [
    "links = soup(resp, 'html.parser').find_all('a', href = True)"
   ]
  },
  {
   "cell_type": "code",
   "execution_count": 5,
   "metadata": {},
   "outputs": [
    {
     "data": {
      "text/plain": [
       "[<a class=\"mw-jump-link\" href=\"#mw-head\">Jump to navigation</a>,\n",
       " <a class=\"mw-jump-link\" href=\"#p-search\">Jump to search</a>,\n",
       " <a href=\"/wiki/Information_science\" title=\"Information science\">information science</a>,\n",
       " <a href=\"/wiki/Machine_learning\" title=\"Machine learning\">Machine learning</a>]"
      ]
     },
     "execution_count": 5,
     "metadata": {},
     "output_type": "execute_result"
    }
   ],
   "source": [
    "links[:4]"
   ]
  },
  {
   "cell_type": "markdown",
   "metadata": {},
   "source": [
    "## Step 3: Use list comprehensions with conditions to clean the link list.\n",
    "\n",
    "There are two types of links, absolute and relative. Absolute links have the full URL and begin with http while relative links begin with a forward slash (/) and point to an internal page within the wikipedia.org domain. Clean the respective types of URLs as follows.\n",
    "\n",
    "- Absolute Links: Create a list of these and remove any that contain a percentage sign (%).\n",
    "- Relativel Links: Create a list of these, add the domain to the link so that you have the full URL, and remove any that contain a percentage sign (%).\n",
    "- Combine the list of absolute and relative links and ensure there are no duplicates."
   ]
  },
  {
   "cell_type": "code",
   "execution_count": 6,
   "metadata": {},
   "outputs": [],
   "source": [
    "domain = 'http://wikipedia.org'"
   ]
  },
  {
   "cell_type": "code",
   "execution_count": 7,
   "metadata": {},
   "outputs": [],
   "source": [
    "links = soup(r.get(domain).text, 'html.parser').find_all('a', href = True)"
   ]
  },
  {
   "cell_type": "code",
   "execution_count": 8,
   "metadata": {},
   "outputs": [],
   "source": [
    "abs_links = [l['href'].replace('%', '') for l in links if l['href'][:2] != '//']"
   ]
  },
  {
   "cell_type": "code",
   "execution_count": 9,
   "metadata": {},
   "outputs": [
    {
     "data": {
      "text/plain": [
       "['https://en.wikipedia.org/wiki/List_of_Wikipedia_mobile_applications',\n",
       " 'https://creativecommons.org/licenses/by-sa/3.0/']"
      ]
     },
     "execution_count": 9,
     "metadata": {},
     "output_type": "execute_result"
    }
   ],
   "source": [
    "abs_links"
   ]
  },
  {
   "cell_type": "code",
   "execution_count": 10,
   "metadata": {},
   "outputs": [],
   "source": [
    "rel_links = [(\"https:\" + i['href'].replace('%', '')) for i in links if \"http\" or \"https\" not in i]"
   ]
  },
  {
   "cell_type": "code",
   "execution_count": 11,
   "metadata": {},
   "outputs": [
    {
     "data": {
      "text/plain": [
       "['https://en.wikipedia.org/',\n",
       " 'https://es.wikipedia.org/',\n",
       " 'https://ja.wikipedia.org/']"
      ]
     },
     "execution_count": 11,
     "metadata": {},
     "output_type": "execute_result"
    }
   ],
   "source": [
    "rel_links[:3]"
   ]
  },
  {
   "cell_type": "code",
   "execution_count": 12,
   "metadata": {},
   "outputs": [],
   "source": [
    "combined  = set(abs_links + rel_links)"
   ]
  },
  {
   "cell_type": "code",
   "execution_count": 13,
   "metadata": {},
   "outputs": [
    {
     "data": {
      "text/plain": [
       "{'https://ab.wikipedia.org/',\n",
       " 'https://ace.wikipedia.org/',\n",
       " 'https://af.wikipedia.org/',\n",
       " 'https://ak.wikipedia.org/',\n",
       " 'https://als.wikipedia.org/',\n",
       " 'https://am.wikipedia.org/',\n",
       " 'https://an.wikipedia.org/',\n",
       " 'https://ang.wikipedia.org/',\n",
       " 'https://ar.wikipedia.org/',\n",
       " 'https://arc.wikipedia.org/',\n",
       " 'https://arz.wikipedia.org/',\n",
       " 'https://as.wikipedia.org/',\n",
       " 'https://ast.wikipedia.org/',\n",
       " 'https://av.wikipedia.org/',\n",
       " 'https://ay.wikipedia.org/',\n",
       " 'https://az.wikipedia.org/',\n",
       " 'https://azb.wikipedia.org/',\n",
       " 'https://ba.wikipedia.org/',\n",
       " 'https://bar.wikipedia.org/',\n",
       " 'https://bat-smg.wikipedia.org/',\n",
       " 'https://bcl.wikipedia.org/',\n",
       " 'https://be-tarask.wikipedia.org/',\n",
       " 'https://be.wikipedia.org/',\n",
       " 'https://bg.wikipedia.org/',\n",
       " 'https://bh.wikipedia.org/',\n",
       " 'https://bi.wikipedia.org/',\n",
       " 'https://bjn.wikipedia.org/',\n",
       " 'https://bm.wikipedia.org/',\n",
       " 'https://bn.wikipedia.org/',\n",
       " 'https://bo.wikipedia.org/',\n",
       " 'https://bpy.wikipedia.org/',\n",
       " 'https://br.wikipedia.org/',\n",
       " 'https://bs.wikipedia.org/',\n",
       " 'https://bug.wikipedia.org/',\n",
       " 'https://bxr.wikipedia.org/',\n",
       " 'https://ca.wikipedia.org/',\n",
       " 'https://cbk-zam.wikipedia.org/',\n",
       " 'https://cdo.wikipedia.org/',\n",
       " 'https://ce.wikipedia.org/',\n",
       " 'https://ceb.wikipedia.org/',\n",
       " 'https://ch.wikipedia.org/',\n",
       " 'https://chr.wikipedia.org/',\n",
       " 'https://chy.wikipedia.org/',\n",
       " 'https://ckb.wikipedia.org/',\n",
       " 'https://co.wikipedia.org/',\n",
       " 'https://commons.wikimedia.org/',\n",
       " 'https://cr.wikipedia.org/',\n",
       " 'https://creativecommons.org/licenses/by-sa/3.0/',\n",
       " 'https://crh.wikipedia.org/',\n",
       " 'https://cs.wikipedia.org/',\n",
       " 'https://csb.wikipedia.org/',\n",
       " 'https://cu.wikipedia.org/',\n",
       " 'https://cv.wikipedia.org/',\n",
       " 'https://cy.wikipedia.org/',\n",
       " 'https://da.wikipedia.org/',\n",
       " 'https://de.wikipedia.org/',\n",
       " 'https://de.wikipedia.org/wiki/Wikipedia:Sprachen',\n",
       " 'https://diq.wikipedia.org/',\n",
       " 'https://dsb.wikipedia.org/',\n",
       " 'https://dv.wikipedia.org/',\n",
       " 'https://dz.wikipedia.org/',\n",
       " 'https://ee.wikipedia.org/',\n",
       " 'https://el.wikipedia.org/',\n",
       " 'https://eml.wikipedia.org/',\n",
       " 'https://en.wikipedia.org/',\n",
       " 'https://en.wikipedia.org/wiki/List_of_Wikipedia_mobile_applications',\n",
       " 'https://eo.wikipedia.org/',\n",
       " 'https://eo.wikipedia.org/wiki/Vikipedio:Internacia_Vikipedio',\n",
       " 'https://es.wikipedia.org/',\n",
       " 'https://et.wikipedia.org/',\n",
       " 'https://eu.wikipedia.org/',\n",
       " 'https://ext.wikipedia.org/',\n",
       " 'https://fa.wikipedia.org/',\n",
       " 'https://ff.wikipedia.org/',\n",
       " 'https://fi.wikipedia.org/',\n",
       " 'https://fiu-vro.wikipedia.org/',\n",
       " 'https://fj.wikipedia.org/',\n",
       " 'https://fo.wikipedia.org/',\n",
       " 'https://fr.wikipedia.org/',\n",
       " 'https://frp.wikipedia.org/',\n",
       " 'https://frr.wikipedia.org/',\n",
       " 'https://fur.wikipedia.org/',\n",
       " 'https://fy.wikipedia.org/',\n",
       " 'https://ga.wikipedia.org/',\n",
       " 'https://gag.wikipedia.org/',\n",
       " 'https://gan.wikipedia.org/',\n",
       " 'https://gd.wikipedia.org/',\n",
       " 'https://gl.wikipedia.org/',\n",
       " 'https://glk.wikipedia.org/',\n",
       " 'https://gn.wikipedia.org/',\n",
       " 'https://gom.wikipedia.org/',\n",
       " 'https://got.wikipedia.org/',\n",
       " 'https://gu.wikipedia.org/',\n",
       " 'https://gv.wikipedia.org/',\n",
       " 'https://ha.wikipedia.org/',\n",
       " 'https://hak.wikipedia.org/',\n",
       " 'https://haw.wikipedia.org/',\n",
       " 'https://he.wikipedia.org/',\n",
       " 'https://hi.wikipedia.org/',\n",
       " 'https://hif.wikipedia.org/',\n",
       " 'https://hr.wikipedia.org/',\n",
       " 'https://hsb.wikipedia.org/',\n",
       " 'https://ht.wikipedia.org/',\n",
       " 'https://hu.wikipedia.org/',\n",
       " 'https://hy.wikipedia.org/',\n",
       " 'https://hyw.wikipedia.org/',\n",
       " 'https://ia.wikipedia.org/',\n",
       " 'https://id.wikipedia.org/',\n",
       " 'https://ie.wikipedia.org/',\n",
       " 'https://ig.wikipedia.org/',\n",
       " 'https://ik.wikipedia.org/',\n",
       " 'https://ilo.wikipedia.org/',\n",
       " 'https://io.wikipedia.org/',\n",
       " 'https://is.wikipedia.org/',\n",
       " 'https://it.wikipedia.org/',\n",
       " 'https://itunes.apple.com/app/apple-store/id324715238?pt=208305&ct=portal&mt=8',\n",
       " 'https://iu.wikipedia.org/',\n",
       " 'https://ja.wikipedia.org/',\n",
       " 'https://ja.wikipedia.org/wiki/Wikipedia:E5A49AE8A880E8AA9EE38397E383ADE382B8E382A7E382AFE38388E381A8E38197E381A6E381AEE382A6E382A3E382ADE3839AE38387E382A3E382A2',\n",
       " 'https://jbo.wikipedia.org/',\n",
       " 'https://jv.wikipedia.org/',\n",
       " 'https://ka.wikipedia.org/',\n",
       " 'https://kaa.wikipedia.org/',\n",
       " 'https://kab.wikipedia.org/',\n",
       " 'https://kbd.wikipedia.org/',\n",
       " 'https://kg.wikipedia.org/',\n",
       " 'https://ki.wikipedia.org/',\n",
       " 'https://kk.wikipedia.org/',\n",
       " 'https://kl.wikipedia.org/',\n",
       " 'https://km.wikipedia.org/',\n",
       " 'https://kn.wikipedia.org/',\n",
       " 'https://ko.wikipedia.org/',\n",
       " 'https://koi.wikipedia.org/',\n",
       " 'https://krc.wikipedia.org/',\n",
       " 'https://ks.wikipedia.org/',\n",
       " 'https://ksh.wikipedia.org/',\n",
       " 'https://ku.wikipedia.org/',\n",
       " 'https://kv.wikipedia.org/',\n",
       " 'https://kw.wikipedia.org/',\n",
       " 'https://ky.wikipedia.org/',\n",
       " 'https://la.wikipedia.org/',\n",
       " 'https://lad.wikipedia.org/',\n",
       " 'https://lb.wikipedia.org/',\n",
       " 'https://lbe.wikipedia.org/',\n",
       " 'https://lez.wikipedia.org/',\n",
       " 'https://lg.wikipedia.org/',\n",
       " 'https://li.wikipedia.org/',\n",
       " 'https://lij.wikipedia.org/',\n",
       " 'https://lmo.wikipedia.org/',\n",
       " 'https://ln.wikipedia.org/',\n",
       " 'https://lo.wikipedia.org/',\n",
       " 'https://lrc.wikipedia.org/',\n",
       " 'https://lt.wikipedia.org/',\n",
       " 'https://ltg.wikipedia.org/',\n",
       " 'https://lv.wikipedia.org/',\n",
       " 'https://mai.wikipedia.org/',\n",
       " 'https://map-bms.wikipedia.org/',\n",
       " 'https://mdf.wikipedia.org/',\n",
       " 'https://meta.wikimedia.org/',\n",
       " 'https://meta.wikimedia.org/wiki/EC9C84ED82A4EBB0B1EAB3BCEC9D98_EBAAA9EBA19D',\n",
       " 'https://meta.wikimedia.org/wiki/List_of_Wikipedias',\n",
       " 'https://meta.wikimedia.org/wiki/Lista_de_Wikipedias',\n",
       " 'https://meta.wikimedia.org/wiki/Liste_des_WikipC3A9dias',\n",
       " 'https://meta.wikimedia.org/wiki/Privacy_policy',\n",
       " 'https://meta.wikimedia.org/wiki/Terms_of_Use',\n",
       " 'https://mg.wikipedia.org/',\n",
       " 'https://mhr.wikipedia.org/',\n",
       " 'https://mi.wikipedia.org/',\n",
       " 'https://min.wikipedia.org/',\n",
       " 'https://mk.wikipedia.org/',\n",
       " 'https://ml.wikipedia.org/',\n",
       " 'https://mn.wikipedia.org/',\n",
       " 'https://mr.wikipedia.org/',\n",
       " 'https://mrj.wikipedia.org/',\n",
       " 'https://ms.wikipedia.org/',\n",
       " 'https://mt.wikipedia.org/',\n",
       " 'https://mwl.wikipedia.org/',\n",
       " 'https://my.wikipedia.org/',\n",
       " 'https://myv.wikipedia.org/',\n",
       " 'https://mzn.wikipedia.org/',\n",
       " 'https://na.wikipedia.org/',\n",
       " 'https://nah.wikipedia.org/',\n",
       " 'https://nap.wikipedia.org/',\n",
       " 'https://nds-nl.wikipedia.org/',\n",
       " 'https://nds.wikipedia.org/',\n",
       " 'https://ne.wikipedia.org/',\n",
       " 'https://new.wikipedia.org/',\n",
       " 'https://nl.wikipedia.org/',\n",
       " 'https://nn.wikipedia.org/',\n",
       " 'https://no.wikipedia.org/',\n",
       " 'https://nov.wikipedia.org/',\n",
       " 'https://nqo.wikipedia.org/',\n",
       " 'https://nrm.wikipedia.org/',\n",
       " 'https://nso.wikipedia.org/',\n",
       " 'https://nv.wikipedia.org/',\n",
       " 'https://ny.wikipedia.org/',\n",
       " 'https://oc.wikipedia.org/',\n",
       " 'https://om.wikipedia.org/',\n",
       " 'https://or.wikipedia.org/',\n",
       " 'https://os.wikipedia.org/',\n",
       " 'https://pa.wikipedia.org/',\n",
       " 'https://pag.wikipedia.org/',\n",
       " 'https://pam.wikipedia.org/',\n",
       " 'https://pap.wikipedia.org/',\n",
       " 'https://pcd.wikipedia.org/',\n",
       " 'https://pdc.wikipedia.org/',\n",
       " 'https://pfl.wikipedia.org/',\n",
       " 'https://pi.wikipedia.org/',\n",
       " 'https://pih.wikipedia.org/',\n",
       " 'https://pl.wikipedia.org/',\n",
       " 'https://pl.wikipedia.org/wiki/Wikipedia:Lista_wersji_jC499zykowych',\n",
       " 'https://play.google.com/store/apps/details?id=org.wikipedia&referrer=utm_source3Dportal26utm_medium3Dbutton26anid3Dadmob',\n",
       " 'https://pms.wikipedia.org/',\n",
       " 'https://pnb.wikipedia.org/',\n",
       " 'https://pnt.wikipedia.org/',\n",
       " 'https://ps.wikipedia.org/',\n",
       " 'https://pt.wikipedia.org/',\n",
       " 'https://qu.wikipedia.org/',\n",
       " 'https://rm.wikipedia.org/',\n",
       " 'https://rmy.wikipedia.org/',\n",
       " 'https://rn.wikipedia.org/',\n",
       " 'https://ro.wikipedia.org/',\n",
       " 'https://roa-rup.wikipedia.org/',\n",
       " 'https://roa-tara.wikipedia.org/',\n",
       " 'https://ru.wikipedia.org/',\n",
       " 'https://ru.wikipedia.org/wiki/D092D0B8D0BAD0B8D0BFD0B5D0B4D0B8D18F:D0A1D092',\n",
       " 'https://rue.wikipedia.org/',\n",
       " 'https://rw.wikipedia.org/',\n",
       " 'https://sa.wikipedia.org/',\n",
       " 'https://sah.wikipedia.org/',\n",
       " 'https://sc.wikipedia.org/',\n",
       " 'https://scn.wikipedia.org/',\n",
       " 'https://sco.wikipedia.org/',\n",
       " 'https://sd.wikipedia.org/',\n",
       " 'https://se.wikipedia.org/',\n",
       " 'https://sg.wikipedia.org/',\n",
       " 'https://sh.wikipedia.org/',\n",
       " 'https://si.wikipedia.org/',\n",
       " 'https://simple.wikipedia.org/',\n",
       " 'https://sk.wikipedia.org/',\n",
       " 'https://sl.wikipedia.org/',\n",
       " 'https://sm.wikipedia.org/',\n",
       " 'https://sn.wikipedia.org/',\n",
       " 'https://so.wikipedia.org/',\n",
       " 'https://species.wikimedia.org/',\n",
       " 'https://sq.wikipedia.org/',\n",
       " 'https://sr.wikipedia.org/',\n",
       " 'https://srn.wikipedia.org/',\n",
       " 'https://ss.wikipedia.org/',\n",
       " 'https://st.wikipedia.org/',\n",
       " 'https://stq.wikipedia.org/',\n",
       " 'https://su.wikipedia.org/',\n",
       " 'https://sv.wikipedia.org/',\n",
       " 'https://sw.wikipedia.org/',\n",
       " 'https://szl.wikipedia.org/',\n",
       " 'https://ta.wikipedia.org/',\n",
       " 'https://te.wikipedia.org/',\n",
       " 'https://tet.wikipedia.org/',\n",
       " 'https://tg.wikipedia.org/',\n",
       " 'https://th.wikipedia.org/',\n",
       " 'https://ti.wikipedia.org/',\n",
       " 'https://tk.wikipedia.org/',\n",
       " 'https://tl.wikipedia.org/',\n",
       " 'https://tn.wikipedia.org/',\n",
       " 'https://to.wikipedia.org/',\n",
       " 'https://tpi.wikipedia.org/',\n",
       " 'https://tr.wikipedia.org/',\n",
       " 'https://ts.wikipedia.org/',\n",
       " 'https://tt.wikipedia.org/',\n",
       " 'https://tum.wikipedia.org/',\n",
       " 'https://tw.wikipedia.org/',\n",
       " 'https://ty.wikipedia.org/',\n",
       " 'https://tyv.wikipedia.org/',\n",
       " 'https://udm.wikipedia.org/',\n",
       " 'https://ug.wikipedia.org/',\n",
       " 'https://uk.wikipedia.org/',\n",
       " 'https://ur.wikipedia.org/',\n",
       " 'https://uz.wikipedia.org/',\n",
       " 'https://ve.wikipedia.org/',\n",
       " 'https://vec.wikipedia.org/',\n",
       " 'https://vep.wikipedia.org/',\n",
       " 'https://vi.wikipedia.org/',\n",
       " 'https://vi.wikipedia.org/wiki/Wikipedia:PhiC3AAn_bE1BAA3n_ngC3B4n_ngE1BBAF',\n",
       " 'https://vls.wikipedia.org/',\n",
       " 'https://vo.wikipedia.org/',\n",
       " 'https://wa.wikipedia.org/',\n",
       " 'https://war.wikipedia.org/',\n",
       " 'https://wikimediafoundation.org/',\n",
       " 'https://wo.wikipedia.org/',\n",
       " 'https://wuu.wikipedia.org/',\n",
       " 'https://www.mediawiki.org/',\n",
       " 'https://www.wikibooks.org/',\n",
       " 'https://www.wikidata.org/',\n",
       " 'https://www.wikinews.org/',\n",
       " 'https://www.wikiquote.org/',\n",
       " 'https://www.wikisource.org/',\n",
       " 'https://www.wikiversity.org/',\n",
       " 'https://www.wikivoyage.org/',\n",
       " 'https://www.wiktionary.org/',\n",
       " 'https://xal.wikipedia.org/',\n",
       " 'https://xh.wikipedia.org/',\n",
       " 'https://xmf.wikipedia.org/',\n",
       " 'https://yi.wikipedia.org/',\n",
       " 'https://yo.wikipedia.org/',\n",
       " 'https://za.wikipedia.org/',\n",
       " 'https://zea.wikipedia.org/',\n",
       " 'https://zh-classical.wikipedia.org/',\n",
       " 'https://zh-min-nan.wikipedia.org/',\n",
       " 'https://zh-yue.wikipedia.org/',\n",
       " 'https://zh.wikipedia.org/',\n",
       " 'https://zh.wikipedia.org/wiki/Wikipedia:E7BBB4E59FBAE799BEE7A791E8AFADE8A880E58897E8A1A8',\n",
       " 'https://zu.wikipedia.org/',\n",
       " 'https:https://creativecommons.org/licenses/by-sa/3.0/',\n",
       " 'https:https://en.wikipedia.org/wiki/List_of_Wikipedia_mobile_applications'}"
      ]
     },
     "execution_count": 13,
     "metadata": {},
     "output_type": "execute_result"
    }
   ],
   "source": [
    "combined"
   ]
  },
  {
   "cell_type": "markdown",
   "metadata": {},
   "source": [
    "## Step 4: Use the os library to create a folder called *wikipedia* and make that the current working directory."
   ]
  },
  {
   "cell_type": "code",
   "execution_count": 14,
   "metadata": {},
   "outputs": [],
   "source": [
    "import os"
   ]
  },
  {
   "cell_type": "code",
   "execution_count": 15,
   "metadata": {},
   "outputs": [],
   "source": [
    "cwd = os.makedirs('wikipedia')"
   ]
  },
  {
   "cell_type": "code",
   "execution_count": 16,
   "metadata": {},
   "outputs": [
    {
     "data": {
      "text/plain": [
       "'/home/jelv/Documents/ironhack/labs/lab-parallelization/your-code'"
      ]
     },
     "execution_count": 16,
     "metadata": {},
     "output_type": "execute_result"
    }
   ],
   "source": [
    "os.getcwd()"
   ]
  },
  {
   "cell_type": "code",
   "execution_count": 17,
   "metadata": {},
   "outputs": [],
   "source": [
    "cwd = os.chdir(os.listdir()[1]) "
   ]
  },
  {
   "cell_type": "code",
   "execution_count": 18,
   "metadata": {},
   "outputs": [
    {
     "data": {
      "text/plain": [
       "'/home/jelv/Documents/ironhack/labs/lab-parallelization/your-code/wikipedia'"
      ]
     },
     "execution_count": 18,
     "metadata": {},
     "output_type": "execute_result"
    }
   ],
   "source": [
    "os.getcwd()"
   ]
  },
  {
   "cell_type": "markdown",
   "metadata": {},
   "source": [
    "## Step 5: Write a function called index_page that accepts a link and does the following.\n",
    "\n",
    "- Tries to request the content of the page referenced by that link.\n",
    "- Slugifies the filename using the `slugify` function from the [python-slugify](https://pypi.org/project/python-slugify/) library and adds a .html file extension.\n",
    "    - If you don't already have the python-slugify library installed, you can pip install it as follows: `$ pip install python-slugify`.\n",
    "    - To import the slugify function, you would do the following: `from slugify import slugify`.\n",
    "    - You can then slugify a link as follows `slugify(link)`.\n",
    "- Creates a file in the wikipedia folder using the slugified filename and writes the contents of the page to the file.\n",
    "- If an exception occurs during the process above, just `pass`."
   ]
  },
  {
   "cell_type": "code",
   "execution_count": 19,
   "metadata": {},
   "outputs": [],
   "source": [
    "from slugify import slugify"
   ]
  },
  {
   "cell_type": "code",
   "execution_count": 21,
   "metadata": {},
   "outputs": [],
   "source": [
    "import os.path\n",
    "    \n",
    "def index_page(url):\n",
    "    try: open(f\"{url.split('/')[-1]}.html\", \"w+\").write(slugify(r.get(url).text))\n",
    "    except: pass"
   ]
  },
  {
   "cell_type": "code",
   "execution_count": 22,
   "metadata": {},
   "outputs": [
    {
     "data": {
      "text/plain": [
       "('/home/jelv/Documents/ironhack/labs/lab-parallelization/your-code/wikipedia',\n",
       " [])"
      ]
     },
     "execution_count": 22,
     "metadata": {},
     "output_type": "execute_result"
    }
   ],
   "source": [
    "#Dir wikipedia es CWD y esta vacio (no files)\n",
    "os.getcwd(), os.listdir()"
   ]
  },
  {
   "cell_type": "code",
   "execution_count": 23,
   "metadata": {},
   "outputs": [],
   "source": [
    "index_page(url)"
   ]
  },
  {
   "cell_type": "code",
   "execution_count": 24,
   "metadata": {},
   "outputs": [
    {
     "data": {
      "text/plain": [
       "('/home/jelv/Documents/ironhack/labs/lab-parallelization/your-code/wikipedia',\n",
       " ['Data_science.html'])"
      ]
     },
     "execution_count": 24,
     "metadata": {},
     "output_type": "execute_result"
    }
   ],
   "source": [
    "#Comprobamos que el archivo se crea como resultado de la func y guarda en el dir deseado\n",
    "os.getcwd(), os.listdir()"
   ]
  },
  {
   "cell_type": "markdown",
   "metadata": {},
   "source": [
    "## Step 6: Sequentially loop through the list of links, running the index_page function each time.\n",
    "\n",
    "Remember to include `%%time` at the beginning of the cell so that it measures the time it takes for the cell to run."
   ]
  },
  {
   "cell_type": "code",
   "execution_count": 25,
   "metadata": {},
   "outputs": [
    {
     "name": "stdout",
     "output_type": "stream",
     "text": [
      "CPU times: user 57 s, sys: 1.58 s, total: 58.6 s\n",
      "Wall time: 2min 43s\n"
     ]
    }
   ],
   "source": [
    "%%time\n",
    "\n",
    "for i in combined: index_page(i)"
   ]
  },
  {
   "cell_type": "code",
   "execution_count": 26,
   "metadata": {},
   "outputs": [
    {
     "data": {
      "text/plain": [
       "['List_of_Wikipedia_mobile_applications.html',\n",
       " 'Wikipedia:E7BBB4E59FBAE799BEE7A791E8AFADE8A880E58897E8A1A8.html',\n",
       " 'D092D0B8D0BAD0B8D0BFD0B5D0B4D0B8D18F:D0A1D092.html',\n",
       " 'Terms_of_Use.html',\n",
       " 'Wikipedia:PhiC3AAn_bE1BAA3n_ngC3B4n_ngE1BBAF.html',\n",
       " 'Vikipedio:Internacia_Vikipedio.html',\n",
       " 'Privacy_policy.html',\n",
       " 'Lista_de_Wikipedias.html',\n",
       " 'Liste_des_WikipC3A9dias.html',\n",
       " 'Data_science.html',\n",
       " '.html',\n",
       " 'Wikipedia:Lista_wersji_jC499zykowych.html',\n",
       " 'List_of_Wikipedias.html',\n",
       " 'details?id=org.wikipedia&referrer=utm_source3Dportal26utm_medium3Dbutton26anid3Dadmob.html',\n",
       " 'Wikipedia:Sprachen.html',\n",
       " 'id324715238?pt=208305&ct=portal&mt=8.html',\n",
       " 'EC9C84ED82A4EBB0B1EAB3BCEC9D98_EBAAA9EBA19D.html',\n",
       " 'Wikipedia:E5A49AE8A880E8AA9EE38397E383ADE382B8E382A7E382AFE38388E381A8E38197E381A6E381AEE382A6E382A3E382ADE3839AE38387E382A3E382A2.html']"
      ]
     },
     "execution_count": 26,
     "metadata": {},
     "output_type": "execute_result"
    }
   ],
   "source": [
    "os.listdir()"
   ]
  },
  {
   "cell_type": "markdown",
   "metadata": {},
   "source": [
    "## Step 7: Perform the page indexing in parallel and note the difference in performance.\n",
    "\n",
    "Remember to include `%%time` at the beginning of the cell so that it measures the time it takes for the cell to run."
   ]
  },
  {
   "cell_type": "code",
   "execution_count": 28,
   "metadata": {},
   "outputs": [],
   "source": [
    "import multiprocessing"
   ]
  },
  {
   "cell_type": "code",
   "execution_count": 29,
   "metadata": {},
   "outputs": [
    {
     "name": "stdout",
     "output_type": "stream",
     "text": [
      "CPU times: user 85.3 ms, sys: 64 ms, total: 149 ms\n",
      "Wall time: 37.7 s\n"
     ]
    }
   ],
   "source": [
    "%%time\n",
    "\n",
    "pool = multiprocessing.Pool()\n",
    "result = pool.map(index_page, combined)\n",
    "pool.terminate()\n",
    "pool.join()\n"
   ]
  },
  {
   "cell_type": "code",
   "execution_count": 30,
   "metadata": {},
   "outputs": [
    {
     "data": {
      "text/plain": [
       "['List_of_Wikipedia_mobile_applications.html',\n",
       " 'Wikipedia:E7BBB4E59FBAE799BEE7A791E8AFADE8A880E58897E8A1A8.html',\n",
       " 'D092D0B8D0BAD0B8D0BFD0B5D0B4D0B8D18F:D0A1D092.html',\n",
       " 'Terms_of_Use.html',\n",
       " 'Wikipedia:PhiC3AAn_bE1BAA3n_ngC3B4n_ngE1BBAF.html',\n",
       " 'Vikipedio:Internacia_Vikipedio.html',\n",
       " 'Privacy_policy.html',\n",
       " 'Lista_de_Wikipedias.html',\n",
       " 'Liste_des_WikipC3A9dias.html',\n",
       " '.html',\n",
       " 'Wikipedia:Lista_wersji_jC499zykowych.html',\n",
       " 'List_of_Wikipedias.html',\n",
       " 'details?id=org.wikipedia&referrer=utm_source3Dportal26utm_medium3Dbutton26anid3Dadmob.html',\n",
       " 'Wikipedia:Sprachen.html',\n",
       " 'id324715238?pt=208305&ct=portal&mt=8.html',\n",
       " 'EC9C84ED82A4EBB0B1EAB3BCEC9D98_EBAAA9EBA19D.html',\n",
       " 'Wikipedia:E5A49AE8A880E8AA9EE38397E383ADE382B8E382A7E382AFE38388E381A8E38197E381A6E381AEE382A6E382A3E382ADE3839AE38387E382A3E382A2.html']"
      ]
     },
     "execution_count": 30,
     "metadata": {},
     "output_type": "execute_result"
    }
   ],
   "source": [
    "#Comprobamos que se han vuleto a generar los archivos, esta vez con multiprocessing\n",
    "os.listdir()"
   ]
  }
 ],
 "metadata": {
  "kernelspec": {
   "display_name": "Python 3",
   "language": "python",
   "name": "python3"
  },
  "language_info": {
   "codemirror_mode": {
    "name": "ipython",
    "version": 3
   },
   "file_extension": ".py",
   "mimetype": "text/x-python",
   "name": "python",
   "nbconvert_exporter": "python",
   "pygments_lexer": "ipython3",
   "version": "3.7.3"
  }
 },
 "nbformat": 4,
 "nbformat_minor": 2
}
